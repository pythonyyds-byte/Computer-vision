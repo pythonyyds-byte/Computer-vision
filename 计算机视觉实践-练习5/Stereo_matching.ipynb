{
 "cells": [
  {
   "cell_type": "code",
   "execution_count": null,
   "metadata": {
    "collapsed": true
   },
   "outputs": [],
   "source": [
    "from glob import glob\n",
    "import numpy as np\n",
    "import os\n",
    "import cv2\n",
    "\n",
    "#读取图像\n",
    "melonL = cv2.imread('melonL.jpg',0)\n",
    "melonR = cv2.imread('melonR.jpg',0)\n",
    "\n",
    "d = 3*16 #disparity\n",
    "b = 1#blockSize\n",
    "\n",
    "#立体匹配：半全局块匹配算法\n",
    "matcher0 = cv2.StereoSGBM_create(0,d, b, 24*b, 96*b, 12, 10, 50, 32, 63, cv2.STEREO_SGBM_MODE_SGBM_3WAY)\n",
    "matcher1 = cv2.ximgproc.createRightMatcher(matcher0)\n",
    "\n",
    "#创建滤波器\n",
    "wls_filter = cv2.ximgproc.createDisparityWLSFilter(matcher0)\n",
    "wls_filter.setLambda(80000)\n",
    "wls_filter.setSigmaColor(1.3)\n",
    "#计算视差图\n",
    "disp0 = np.int16(matcher0.compute(melonL, melonR))\n",
    "disp1 = np.int16(matcher1.compute(melonR, melonL))\n",
    "\n",
    "#滤波器平滑视差图\n",
    "depth = wls_filter.filter(disp0, melonL, None, disp1).astype(np.float32)/16.\n",
    "\n",
    "depth = np.uint8(cv2.normalize(depth, depth, 255, 0, cv2.NORM_MINMAX))\n",
    "cv2.imshow('Disparity', depth)\n",
    "cv2.imwrite('Disparity.jpg', depth)\n",
    "cv2.waitKey(0)\n"
   ]
  }
 ],
 "metadata": {
  "kernelspec": {
   "display_name": "Python 3",
   "language": "python",
   "name": "python3"
  },
  "language_info": {
   "codemirror_mode": {
    "name": "ipython",
    "version": 2
   },
   "file_extension": ".py",
   "mimetype": "text/x-python",
   "name": "python",
   "nbconvert_exporter": "python",
   "pygments_lexer": "ipython2",
   "version": "2.7.6"
  }
 },
 "nbformat": 4,
 "nbformat_minor": 0
}